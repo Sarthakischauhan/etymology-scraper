{
 "cells": [
  {
   "cell_type": "code",
   "execution_count": 1,
   "id": "b5075a7f",
   "metadata": {},
   "outputs": [],
   "source": [
    "import requests\n",
    "from bs4 import BeautifulSoup  "
   ]
  },
  {
   "cell_type": "code",
   "execution_count": 2,
   "id": "087ad1dc",
   "metadata": {},
   "outputs": [],
   "source": [
    "BASE_URL_WIKIPEDIA = \"https://en.wikipedia.org\"\n",
    "BASE_URL_WIKITIONARY = \"https://en.wiktionary.org/wiki/{name}\"\n",
    "LIST_OF_FOOD_URL = \"https://en.wikipedia.org/wiki/List_of_food_origins\""
   ]
  },
  {
   "cell_type": "code",
   "execution_count": 6,
   "id": "b646b31c",
   "metadata": {},
   "outputs": [],
   "source": [
    "food_origin_page = requests.get(LIST_OF_FOOD_URL)\n",
    "FOPage = BeautifulSoup(food_origin_page.content, \"html.parser\")"
   ]
  },
  {
   "cell_type": "code",
   "execution_count": null,
   "id": "6553eeb3",
   "metadata": {},
   "outputs": [],
   "source": [
    "# So we want to have some names of fruits and vegetables in english\n",
    "def get_items_between_divs(div_class1:str, div_class2:str, page_type=\"wikitionary\",lang=\"en\"):\n",
    "    # will get the textual content between two divs\n",
    "    "
   ]
  },
  {
   "cell_type": "code",
   "execution_count": 10,
   "id": "8ec5f646",
   "metadata": {},
   "outputs": [],
   "source": [
    "def get_all_food_items():\n",
    "    all_possible_items = FOPage.find_all(class_=\"div-col\")\n",
    "    list_of_items = [p.get_text() for p in all_possible_items]\n",
    "    return list_of_items"
   ]
  },
  {
   "cell_type": "code",
   "execution_count": 38,
   "id": "f50aeb6e",
   "metadata": {},
   "outputs": [],
   "source": [
    "items = get_all_food_items()\n",
    "# deleting all the empty characters \n",
    "items = list(filter(None, items))"
   ]
  },
  {
   "cell_type": "code",
   "execution_count": 58,
   "id": "24c20a22",
   "metadata": {
    "scrolled": true
   },
   "outputs": [],
   "source": [
    "def write_words(data:list, filename:str):\n",
    "    with open(\"items.txt\",\"w\") as file:\n",
    "        for item in items:\n",
    "            lines = item.split(\"\\n\")\n",
    "            lines = list(filter(None, lines))\n",
    "            for line in lines:\n",
    "                word = line.split(\"(\")[0]\n",
    "                file.write(word+\"\\n\")   \n",
    "        file.close()"
   ]
  },
  {
   "cell_type": "code",
   "execution_count": null,
   "id": "a580ef63",
   "metadata": {},
   "outputs": [],
   "source": [
    "# TO-DO : call open ai to parse through th textual data you get"
   ]
  }
 ],
 "metadata": {
  "kernelspec": {
   "display_name": "base",
   "language": "python",
   "name": "base"
  },
  "language_info": {
   "codemirror_mode": {
    "name": "ipython",
    "version": 3
   },
   "file_extension": ".py",
   "mimetype": "text/x-python",
   "name": "python",
   "nbconvert_exporter": "python",
   "pygments_lexer": "ipython3",
   "version": "3.12.4"
  }
 },
 "nbformat": 4,
 "nbformat_minor": 5
}
